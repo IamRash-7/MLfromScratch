{
 "cells": [
  {
   "cell_type": "code",
   "execution_count": 146,
   "metadata": {},
   "outputs": [],
   "source": [
    "import numpy as np\n",
    "import pandas as pd\n",
    "from numpy.linalg import inv\n",
    "from sklearn.datasets import load_boston\n",
    "from sklearn.linear_model import LinearRegression\n",
    "from statsmodels.regression.linear_model import OLS"
   ]
  },
  {
   "cell_type": "code",
   "execution_count": 147,
   "metadata": {},
   "outputs": [],
   "source": [
    "boston = load_boston()\n",
    "X = boston.data\n",
    "y = boston.target"
   ]
  },
  {
   "cell_type": "code",
   "execution_count": 129,
   "metadata": {},
   "outputs": [
    {
     "name": "stdout",
     "output_type": "stream",
     "text": [
      "(506, 13)\n"
     ]
    }
   ],
   "source": [
    "print(X.shape)"
   ]
  },
  {
   "cell_type": "code",
   "execution_count": 130,
   "metadata": {},
   "outputs": [
    {
     "name": "stdout",
     "output_type": "stream",
     "text": [
      "['CRIM' 'ZN' 'INDUS' 'CHAS' 'NOX' 'RM' 'AGE' 'DIS' 'RAD' 'TAX' 'PTRATIO'\n",
      " 'B' 'LSTAT']\n"
     ]
    }
   ],
   "source": [
    "feature_names = boston.feature_names\n",
    "print(feature_names)"
   ]
  },
  {
   "cell_type": "code",
   "execution_count": 131,
   "metadata": {},
   "outputs": [],
   "source": [
    "int = np.ones(shape=X.shape[0])[..., None]"
   ]
  },
  {
   "cell_type": "code",
   "execution_count": 132,
   "metadata": {},
   "outputs": [
    {
     "data": {
      "text/plain": [
       "(506, 1)"
      ]
     },
     "execution_count": 132,
     "metadata": {},
     "output_type": "execute_result"
    }
   ],
   "source": [
    "int.shape"
   ]
  },
  {
   "cell_type": "code",
   "execution_count": 133,
   "metadata": {},
   "outputs": [],
   "source": [
    "X = np.concatenate((int, X), 1)"
   ]
  },
  {
   "cell_type": "code",
   "execution_count": 134,
   "metadata": {},
   "outputs": [
    {
     "data": {
      "text/plain": [
       "(506, 14)"
      ]
     },
     "execution_count": 134,
     "metadata": {},
     "output_type": "execute_result"
    }
   ],
   "source": [
    "X.shape"
   ]
  },
  {
   "cell_type": "code",
   "execution_count": 135,
   "metadata": {},
   "outputs": [
    {
     "data": {
      "text/plain": [
       "array([1.000e+00, 6.320e-03, 1.800e+01, 2.310e+00, 0.000e+00, 5.380e-01,\n",
       "       6.575e+00, 6.520e+01, 4.090e+00, 1.000e+00, 2.960e+02, 1.530e+01,\n",
       "       3.969e+02, 4.980e+00])"
      ]
     },
     "execution_count": 135,
     "metadata": {},
     "output_type": "execute_result"
    }
   ],
   "source": [
    "X[0]"
   ]
  },
  {
   "cell_type": "code",
   "execution_count": 136,
   "metadata": {},
   "outputs": [],
   "source": [
    "# calculate coefficients using closed-form solution\n",
    "coeffs = inv(X.transpose().dot(X)).dot(X.transpose()).dot(y)"
   ]
  },
  {
   "cell_type": "code",
   "execution_count": 137,
   "metadata": {},
   "outputs": [
    {
     "data": {
      "text/plain": [
       "array([ 3.64594884e+01, -1.08011358e-01,  4.64204584e-02,  2.05586264e-02,\n",
       "        2.68673382e+00, -1.77666112e+01,  3.80986521e+00,  6.92224640e-04,\n",
       "       -1.47556685e+00,  3.06049479e-01, -1.23345939e-02, -9.52747232e-01,\n",
       "        9.31168327e-03, -5.24758378e-01])"
      ]
     },
     "execution_count": 137,
     "metadata": {},
     "output_type": "execute_result"
    }
   ],
   "source": [
    "coeffs"
   ]
  },
  {
   "cell_type": "code",
   "execution_count": 138,
   "metadata": {},
   "outputs": [
    {
     "name": "stdout",
     "output_type": "stream",
     "text": [
      "         coeffs\n",
      "INT       36.46\n",
      "CRIM      -0.11\n",
      "ZN         0.05\n",
      "INDUS      0.02\n",
      "CHAS       2.69\n",
      "NOX      -17.77\n",
      "RM         3.81\n",
      "AGE        0.00\n",
      "DIS       -1.48\n",
      "RAD        0.31\n",
      "TAX       -0.01\n",
      "PTRATIO   -0.95\n",
      "B          0.01\n",
      "LSTAT     -0.52\n"
     ]
    }
   ],
   "source": [
    "feature_names = np.insert(boston.feature_names, 0, 'INT')\n",
    "\n",
    "# collect results into a DataFrame for pretty printing\n",
    "results = pd.DataFrame({'coeffs':coeffs}, index=feature_names)\n",
    "\n",
    "print(results.round(2))"
   ]
  },
  {
   "cell_type": "code",
   "execution_count": 139,
   "metadata": {},
   "outputs": [],
   "source": [
    "LR = LinearRegression(fit_intercept=False)"
   ]
  },
  {
   "cell_type": "code",
   "execution_count": 140,
   "metadata": {},
   "outputs": [
    {
     "data": {
      "text/plain": [
       "LinearRegression(copy_X=True, fit_intercept=False, n_jobs=None, normalize=False)"
      ]
     },
     "execution_count": 140,
     "metadata": {},
     "output_type": "execute_result"
    }
   ],
   "source": [
    "LR.fit(X,y)"
   ]
  },
  {
   "cell_type": "code",
   "execution_count": 141,
   "metadata": {},
   "outputs": [],
   "source": [
    "coeffs_lr = LR.coef_"
   ]
  },
  {
   "cell_type": "code",
   "execution_count": 142,
   "metadata": {},
   "outputs": [
    {
     "name": "stdout",
     "output_type": "stream",
     "text": [
      "         coeffs  coeffs_lr\n",
      "INT       36.46      36.46\n",
      "CRIM      -0.11      -0.11\n",
      "ZN         0.05       0.05\n",
      "INDUS      0.02       0.02\n",
      "CHAS       2.69       2.69\n",
      "NOX      -17.77     -17.77\n",
      "RM         3.81       3.81\n",
      "AGE        0.00       0.00\n",
      "DIS       -1.48      -1.48\n",
      "RAD        0.31       0.31\n",
      "TAX       -0.01      -0.01\n",
      "PTRATIO   -0.95      -0.95\n",
      "B          0.01       0.01\n",
      "LSTAT     -0.52      -0.52\n"
     ]
    }
   ],
   "source": [
    "results['coeffs_lr'] = coeffs_lr\n",
    "\n",
    "print(results.round(2))"
   ]
  },
  {
   "cell_type": "code",
   "execution_count": 144,
   "metadata": {},
   "outputs": [],
   "source": [
    "coeffs_lm = OLS(y, X).fit().params"
   ]
  },
  {
   "cell_type": "code",
   "execution_count": 145,
   "metadata": {},
   "outputs": [
    {
     "name": "stdout",
     "output_type": "stream",
     "text": [
      "         coeffs  coeffs_lr  coeffs_lm\n",
      "INT       36.46      36.46      36.46\n",
      "CRIM      -0.11      -0.11      -0.11\n",
      "ZN         0.05       0.05       0.05\n",
      "INDUS      0.02       0.02       0.02\n",
      "CHAS       2.69       2.69       2.69\n",
      "NOX      -17.77     -17.77     -17.77\n",
      "RM         3.81       3.81       3.81\n",
      "AGE        0.00       0.00       0.00\n",
      "DIS       -1.48      -1.48      -1.48\n",
      "RAD        0.31       0.31       0.31\n",
      "TAX       -0.01      -0.01      -0.01\n",
      "PTRATIO   -0.95      -0.95      -0.95\n",
      "B          0.01       0.01       0.01\n",
      "LSTAT     -0.52      -0.52      -0.52\n"
     ]
    }
   ],
   "source": [
    "results['coeffs_lm'] = coeffs_lm\n",
    "\n",
    "print(results.round(2))"
   ]
  },
  {
   "cell_type": "code",
   "execution_count": null,
   "metadata": {},
   "outputs": [],
   "source": []
  }
 ],
 "metadata": {},
 "nbformat": 4,
 "nbformat_minor": 4
}
