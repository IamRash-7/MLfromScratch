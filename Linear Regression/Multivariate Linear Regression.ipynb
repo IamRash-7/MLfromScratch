{
 "cells": [
  {
   "cell_type": "code",
   "execution_count": 1,
   "metadata": {},
   "outputs": [],
   "source": [
    "import numpy as np"
   ]
  },
  {
   "cell_type": "code",
   "execution_count": 129,
   "metadata": {},
   "outputs": [],
   "source": [
    "X = np.array([1,2,3,4,5])\n",
    "X = X.reshape(len(X),1)\n",
    "y = np.array([5,7,9,11,13])"
   ]
  },
  {
   "cell_type": "code",
   "execution_count": 130,
   "metadata": {},
   "outputs": [],
   "source": [
    "def fit(X,y,intercept=False):\n",
    "    if intercept == False:\n",
    "        ones = np.ones(len(X)).reshape(len(X), 1)\n",
    "        X = np.concatenate((ones, X), axis = 1)\n",
    "    N,D = X.shape\n",
    "    \n",
    "    XtX = np.dot(X.T,X)\n",
    "    XtX_inverse = np.linalg.inv(XtX)\n",
    "    Xty = np.dot(X.T,y)\n",
    "    beta_cap = np.dot(XtX_inverse,Xty)\n",
    "    \n",
    "    y_cap = np.dot(X,beta_cap)\n",
    "    \n",
    "    loss = 0.5*np.sum((y-y_cap)**2)\n",
    "    return beta_cap"
   ]
  },
  {
   "cell_type": "code",
   "execution_count": 131,
   "metadata": {},
   "outputs": [],
   "source": [
    "def predict(X,beta_cap,intercept=False):\n",
    "    if intercept == False:\n",
    "        ones = np.ones(len(X)).reshape(len(X), 1)\n",
    "        X = np.concatenate((ones, X), axis = 1)\n",
    "    y = np.dot(X,beta_cap)\n",
    "    \n",
    "    return y"
   ]
  },
  {
   "cell_type": "code",
   "execution_count": 132,
   "metadata": {},
   "outputs": [
    {
     "data": {
      "text/plain": [
       "array([3., 2.])"
      ]
     },
     "execution_count": 132,
     "metadata": {},
     "output_type": "execute_result"
    }
   ],
   "source": [
    "b = fit(X,y)\n",
    "b"
   ]
  },
  {
   "cell_type": "code",
   "execution_count": 142,
   "metadata": {},
   "outputs": [
    {
     "data": {
      "text/plain": [
       "38.000000000000085"
      ]
     },
     "execution_count": 142,
     "metadata": {},
     "output_type": "execute_result"
    }
   ],
   "source": [
    "predict(np.array([12,1]),b,intercept=True)"
   ]
  },
  {
   "cell_type": "code",
   "execution_count": null,
   "metadata": {},
   "outputs": [],
   "source": []
  }
 ],
 "metadata": {
  "kernelspec": {
   "display_name": "Python 3",
   "language": "python",
   "name": "python3"
  },
  "language_info": {
   "codemirror_mode": {
    "name": "ipython",
    "version": 3
   },
   "file_extension": ".py",
   "mimetype": "text/x-python",
   "name": "python",
   "nbconvert_exporter": "python",
   "pygments_lexer": "ipython3",
   "version": "3.7.6"
  }
 },
 "nbformat": 4,
 "nbformat_minor": 4
}
